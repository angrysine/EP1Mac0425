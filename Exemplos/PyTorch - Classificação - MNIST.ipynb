{
 "cells": [
  {
   "cell_type": "markdown",
   "metadata": {
    "id": "OWkeOZrY44qv"
   },
   "source": [
    "# Classificação de imagens em PyTorch\n",
    "\n",
    "Tutorial adaptado de : https://www.geeksforgeeks.org/how-to-implement-neural-networks-in-pytorch/\n",
    "\n",
    "Dataset Utilizado: https://pt.wikipedia.org/wiki/Banco_de_dados_MNIST"
   ]
  },
  {
   "cell_type": "markdown",
   "metadata": {
    "id": "x1xATGm5ymaS"
   },
   "source": [
    "# Imports\n"
   ]
  },
  {
   "cell_type": "code",
   "execution_count": 1,
   "metadata": {
    "id": "kCe3sXqkh8Vf"
   },
   "outputs": [],
   "source": [
    "import torch\n",
    "import torch.nn as nn\n",
    "import torch.nn.functional as F\n",
    "import torch.optim as optim\n",
    "from torchvision import datasets, transforms\n",
    "import matplotlib.pyplot as plt\n",
    "import numpy as np"
   ]
  },
  {
   "cell_type": "markdown",
   "metadata": {
    "id": "VE-b6SRQypE2"
   },
   "source": [
    "# Parâmetros e Pré-processamaneto"
   ]
  },
  {
   "cell_type": "code",
   "execution_count": 2,
   "metadata": {
    "id": "fyFrjITXiCoH"
   },
   "outputs": [],
   "source": [
    "batch_size = 64 # O Treinamento em batches/bateladas traz estabilidade e aproveita o paralelismo das gpus\n",
    "num_epochs = 30\n",
    "learning_rate = 0.01\n",
    "\n",
    "# Transforms para pré-processamento (e também aumento de dados, mas não aqui)\n",
    "transform = transforms.Compose([\n",
    "    transforms.ToTensor(), # Converte uma Imagem para Um tensor\n",
    "    transforms.Normalize((0.1307,), (0.3081,))  # Normaliza ao redor da média e do desvio padrão\n",
    "])"
   ]
  },
  {
   "cell_type": "markdown",
   "metadata": {
    "id": "rhcQmOr4zuuy"
   },
   "source": [
    "# Dados e Loaders"
   ]
  },
  {
   "cell_type": "code",
   "execution_count": 3,
   "metadata": {
    "colab": {
     "base_uri": "https://localhost:8080/"
    },
    "executionInfo": {
     "elapsed": 5232,
     "status": "ok",
     "timestamp": 1749218402050,
     "user": {
      "displayName": "Felipe Ribas Serras",
      "userId": "07046523761288390143"
     },
     "user_tz": 180
    },
    "id": "1qSpqOZoiFpP",
    "outputId": "96f2a0ff-603e-4f62-c959-b84d8e5936cd"
   },
   "outputs": [],
   "source": [
    "train_dataset = datasets.MNIST(root='.', train=True, download=True, transform=transform)\n",
    "test_dataset = datasets.MNIST(root='.', train=False, download=True, transform=transform)\n",
    "\n",
    "train_loader = torch.utils.data.DataLoader(train_dataset, batch_size=batch_size, shuffle=True)\n",
    "test_loader = torch.utils.data.DataLoader(test_dataset, batch_size=batch_size, shuffle=False)"
   ]
  },
  {
   "cell_type": "markdown",
   "metadata": {
    "id": "torQ_Ieoz3mT"
   },
   "source": [
    "# Definindo e Instanciando o Modelo"
   ]
  },
  {
   "cell_type": "code",
   "execution_count": 4,
   "metadata": {
    "id": "-IROBpCaiKka"
   },
   "outputs": [],
   "source": [
    "class Net(nn.Module):\n",
    "    def __init__(self):\n",
    "        super(Net, self).__init__()\n",
    "        self.fc1 = nn.Linear(28*28, 512)\n",
    "        self.fc2 = nn.Linear(512, 10)\n",
    "\n",
    "    def forward(self, x):\n",
    "        x = x.view(-1, 28*28)  # View converte um tensor p/ um novo formato, nesse caso achatamos o tensor (O tamanho correto em -1 é inferido)\n",
    "        x = F.relu(self.fc1(x))  # Função de Ativação: ReLU (Rectifier Linear Unit)\n",
    "        x = self.fc2(x)  # Output layer\n",
    "        return x\n",
    "\n",
    "device = torch.device(\"cuda\" if torch.cuda.is_available() else \"cpu\")\n",
    "model = Net().to(device)"
   ]
  },
  {
   "cell_type": "markdown",
   "metadata": {
    "id": "zmmGc8MU1VqP"
   },
   "source": [
    "# Instanciando Custo e Otimizador"
   ]
  },
  {
   "cell_type": "code",
   "execution_count": 5,
   "metadata": {
    "id": "WotQLGxGiOXE"
   },
   "outputs": [],
   "source": [
    "criterion = nn.CrossEntropyLoss()\n",
    "optimizer = optim.SGD(model.parameters(), lr=learning_rate)"
   ]
  },
  {
   "cell_type": "markdown",
   "metadata": {
    "id": "ubIS3Lr51d4F"
   },
   "source": [
    "# Definindo os loops de treinamento e de teste"
   ]
  },
  {
   "cell_type": "code",
   "execution_count": 6,
   "metadata": {
    "id": "v8KzzKBGiXMb"
   },
   "outputs": [],
   "source": [
    "# Implementação simples  para o cálculo da acurácia ao longo do bach:\n",
    "def accuracy(outputs, labels):\n",
    "    _, preds = torch.max(outputs, 1)\n",
    "    return torch.sum(preds == labels).item() / len(labels)\n",
    "\n",
    "#Loop de Treinamento\n",
    "def train(model, device, train_loader, criterion, optimizer, epoch):\n",
    "    model.train()\n",
    "    running_loss = 0.0\n",
    "    running_acc = 0.0\n",
    "    for i, (inputs, labels) in enumerate(train_loader): # O train_loader vai nos dando os batches\n",
    "        inputs, labels = inputs.to(device), labels.to(device) # temos que passar os dados para o device, assim como o modelo\n",
    "        optimizer.zero_grad()\n",
    "        outputs = model(inputs)\n",
    "        loss = criterion(outputs, labels)\n",
    "        loss.backward()\n",
    "        optimizer.step()\n",
    "\n",
    "        running_loss += loss.item()\n",
    "        running_acc += accuracy(outputs, labels)\n",
    "        if (i + 1) % 200 == 0:\n",
    "            print(f'Epoch {epoch}, Batch {i+1}, Loss: {running_loss / 200:.4f}, Accuracy: {running_acc / 200:.4f}')\n",
    "            running_loss = 0.0\n",
    "            running_acc = 0.0\n",
    "\n",
    "def test(model, device, test_loader, criterion):\n",
    "    model.eval()\n",
    "    test_loss = 0.0\n",
    "    test_acc = 0.0\n",
    "    with torch.no_grad():\n",
    "        for inputs, labels in test_loader:\n",
    "            inputs, labels = inputs.to(device), labels.to(device)\n",
    "            outputs = model(inputs)\n",
    "            loss = criterion(outputs, labels)\n",
    "            test_loss += loss.item()\n",
    "            test_acc += accuracy(outputs, labels)\n",
    "    print(f'Test Loss: {test_loss / len(test_loader):.4f}, Test Accuracy: {test_acc / len(test_loader):.4f}')"
   ]
  },
  {
   "cell_type": "markdown",
   "metadata": {
    "id": "IZsjOY2Z5Vn9"
   },
   "source": [
    "# Executando Treinamento e Teste, Visualizando os Resultados"
   ]
  },
  {
   "cell_type": "code",
   "execution_count": 7,
   "metadata": {
    "colab": {
     "base_uri": "https://localhost:8080/",
     "height": 1000
    },
    "executionInfo": {
     "elapsed": 167160,
     "status": "ok",
     "timestamp": 1749218569359,
     "user": {
      "displayName": "Felipe Ribas Serras",
      "userId": "07046523761288390143"
     },
     "user_tz": 180
    },
    "id": "6V_NK52qibJc",
    "outputId": "3f015930-8df0-40f9-f810-e030ab41bc48"
   },
   "outputs": [
    {
     "name": "stdout",
     "output_type": "stream",
     "text": [
      "Epoch 1, Batch 200, Loss: 1.1082, Accuracy: 0.7452\n",
      "Epoch 1, Batch 400, Loss: 0.5051, Accuracy: 0.8688\n",
      "Epoch 1, Batch 600, Loss: 0.4023, Accuracy: 0.8897\n",
      "Epoch 1, Batch 800, Loss: 0.3585, Accuracy: 0.8981\n",
      "Test Loss: 0.3062, Test Accuracy: 0.9125\n",
      "Epoch 2, Batch 200, Loss: 0.3057, Accuracy: 0.9133\n",
      "Epoch 2, Batch 400, Loss: 0.2976, Accuracy: 0.9160\n",
      "Epoch 2, Batch 600, Loss: 0.2883, Accuracy: 0.9168\n",
      "Epoch 2, Batch 800, Loss: 0.2815, Accuracy: 0.9192\n",
      "Test Loss: 0.2500, Test Accuracy: 0.9304\n",
      "Epoch 3, Batch 200, Loss: 0.2613, Accuracy: 0.9259\n",
      "Epoch 3, Batch 400, Loss: 0.2416, Accuracy: 0.9302\n",
      "Epoch 3, Batch 600, Loss: 0.2346, Accuracy: 0.9352\n",
      "Epoch 3, Batch 800, Loss: 0.2353, Accuracy: 0.9341\n",
      "Test Loss: 0.2149, Test Accuracy: 0.9384\n",
      "Epoch 4, Batch 200, Loss: 0.2193, Accuracy: 0.9371\n",
      "Epoch 4, Batch 400, Loss: 0.2169, Accuracy: 0.9372\n",
      "Epoch 4, Batch 600, Loss: 0.2018, Accuracy: 0.9441\n",
      "Epoch 4, Batch 800, Loss: 0.2032, Accuracy: 0.9452\n",
      "Test Loss: 0.1900, Test Accuracy: 0.9452\n",
      "Epoch 5, Batch 200, Loss: 0.1843, Accuracy: 0.9481\n",
      "Epoch 5, Batch 400, Loss: 0.1958, Accuracy: 0.9448\n",
      "Epoch 5, Batch 600, Loss: 0.1778, Accuracy: 0.9505\n",
      "Epoch 5, Batch 800, Loss: 0.1778, Accuracy: 0.9517\n",
      "Test Loss: 0.1716, Test Accuracy: 0.9501\n",
      "Epoch 6, Batch 200, Loss: 0.1681, Accuracy: 0.9522\n",
      "Epoch 6, Batch 400, Loss: 0.1706, Accuracy: 0.9516\n",
      "Epoch 6, Batch 600, Loss: 0.1596, Accuracy: 0.9552\n",
      "Epoch 6, Batch 800, Loss: 0.1572, Accuracy: 0.9563\n",
      "Test Loss: 0.1569, Test Accuracy: 0.9542\n",
      "Epoch 7, Batch 200, Loss: 0.1565, Accuracy: 0.9569\n",
      "Epoch 7, Batch 400, Loss: 0.1507, Accuracy: 0.9587\n",
      "Epoch 7, Batch 600, Loss: 0.1442, Accuracy: 0.9616\n",
      "Epoch 7, Batch 800, Loss: 0.1451, Accuracy: 0.9584\n",
      "Test Loss: 0.1438, Test Accuracy: 0.9586\n",
      "Epoch 8, Batch 200, Loss: 0.1402, Accuracy: 0.9618\n",
      "Epoch 8, Batch 400, Loss: 0.1398, Accuracy: 0.9621\n",
      "Epoch 8, Batch 600, Loss: 0.1356, Accuracy: 0.9623\n",
      "Epoch 8, Batch 800, Loss: 0.1275, Accuracy: 0.9648\n",
      "Test Loss: 0.1353, Test Accuracy: 0.9606\n",
      "Epoch 9, Batch 200, Loss: 0.1305, Accuracy: 0.9634\n",
      "Epoch 9, Batch 400, Loss: 0.1302, Accuracy: 0.9637\n",
      "Epoch 9, Batch 600, Loss: 0.1221, Accuracy: 0.9677\n",
      "Epoch 9, Batch 800, Loss: 0.1210, Accuracy: 0.9676\n",
      "Test Loss: 0.1243, Test Accuracy: 0.9636\n",
      "Epoch 10, Batch 200, Loss: 0.1112, Accuracy: 0.9693\n",
      "Epoch 10, Batch 400, Loss: 0.1116, Accuracy: 0.9686\n",
      "Epoch 10, Batch 600, Loss: 0.1206, Accuracy: 0.9681\n",
      "Epoch 10, Batch 800, Loss: 0.1103, Accuracy: 0.9691\n",
      "Test Loss: 0.1202, Test Accuracy: 0.9658\n",
      "Epoch 11, Batch 200, Loss: 0.1057, Accuracy: 0.9711\n",
      "Epoch 11, Batch 400, Loss: 0.1073, Accuracy: 0.9708\n",
      "Epoch 11, Batch 600, Loss: 0.1113, Accuracy: 0.9700\n",
      "Epoch 11, Batch 800, Loss: 0.1047, Accuracy: 0.9724\n",
      "Test Loss: 0.1119, Test Accuracy: 0.9673\n",
      "Epoch 12, Batch 200, Loss: 0.1026, Accuracy: 0.9729\n",
      "Epoch 12, Batch 400, Loss: 0.0970, Accuracy: 0.9747\n",
      "Epoch 12, Batch 600, Loss: 0.0947, Accuracy: 0.9750\n",
      "Epoch 12, Batch 800, Loss: 0.1032, Accuracy: 0.9727\n",
      "Test Loss: 0.1070, Test Accuracy: 0.9688\n",
      "Epoch 13, Batch 200, Loss: 0.0917, Accuracy: 0.9761\n",
      "Epoch 13, Batch 400, Loss: 0.0917, Accuracy: 0.9754\n",
      "Epoch 13, Batch 600, Loss: 0.0943, Accuracy: 0.9746\n",
      "Epoch 13, Batch 800, Loss: 0.0926, Accuracy: 0.9739\n",
      "Test Loss: 0.1040, Test Accuracy: 0.9693\n",
      "Epoch 14, Batch 200, Loss: 0.0863, Accuracy: 0.9784\n",
      "Epoch 14, Batch 400, Loss: 0.0826, Accuracy: 0.9786\n",
      "Epoch 14, Batch 600, Loss: 0.0902, Accuracy: 0.9749\n",
      "Epoch 14, Batch 800, Loss: 0.0859, Accuracy: 0.9769\n",
      "Test Loss: 0.0985, Test Accuracy: 0.9709\n",
      "Epoch 15, Batch 200, Loss: 0.0802, Accuracy: 0.9789\n",
      "Epoch 15, Batch 400, Loss: 0.0798, Accuracy: 0.9773\n",
      "Epoch 15, Batch 600, Loss: 0.0811, Accuracy: 0.9786\n",
      "Epoch 15, Batch 800, Loss: 0.0838, Accuracy: 0.9777\n",
      "Test Loss: 0.0944, Test Accuracy: 0.9722\n",
      "Epoch 16, Batch 200, Loss: 0.0771, Accuracy: 0.9810\n",
      "Epoch 16, Batch 400, Loss: 0.0785, Accuracy: 0.9786\n",
      "Epoch 16, Batch 600, Loss: 0.0751, Accuracy: 0.9812\n",
      "Epoch 16, Batch 800, Loss: 0.0763, Accuracy: 0.9804\n",
      "Test Loss: 0.0920, Test Accuracy: 0.9731\n",
      "Epoch 17, Batch 200, Loss: 0.0692, Accuracy: 0.9830\n",
      "Epoch 17, Batch 400, Loss: 0.0737, Accuracy: 0.9805\n",
      "Epoch 17, Batch 600, Loss: 0.0744, Accuracy: 0.9798\n",
      "Epoch 17, Batch 800, Loss: 0.0757, Accuracy: 0.9804\n",
      "Test Loss: 0.0900, Test Accuracy: 0.9732\n",
      "Epoch 18, Batch 200, Loss: 0.0710, Accuracy: 0.9825\n",
      "Epoch 18, Batch 400, Loss: 0.0670, Accuracy: 0.9823\n",
      "Epoch 18, Batch 600, Loss: 0.0685, Accuracy: 0.9812\n",
      "Epoch 18, Batch 800, Loss: 0.0707, Accuracy: 0.9814\n",
      "Test Loss: 0.0880, Test Accuracy: 0.9741\n",
      "Epoch 19, Batch 200, Loss: 0.0646, Accuracy: 0.9815\n",
      "Epoch 19, Batch 400, Loss: 0.0661, Accuracy: 0.9841\n",
      "Epoch 19, Batch 600, Loss: 0.0655, Accuracy: 0.9838\n",
      "Epoch 19, Batch 800, Loss: 0.0678, Accuracy: 0.9823\n",
      "Test Loss: 0.0862, Test Accuracy: 0.9739\n",
      "Epoch 20, Batch 200, Loss: 0.0628, Accuracy: 0.9845\n",
      "Epoch 20, Batch 400, Loss: 0.0618, Accuracy: 0.9834\n",
      "Epoch 20, Batch 600, Loss: 0.0601, Accuracy: 0.9848\n",
      "Epoch 20, Batch 800, Loss: 0.0645, Accuracy: 0.9838\n",
      "Test Loss: 0.0829, Test Accuracy: 0.9752\n",
      "Epoch 21, Batch 200, Loss: 0.0567, Accuracy: 0.9858\n",
      "Epoch 21, Batch 400, Loss: 0.0656, Accuracy: 0.9834\n",
      "Epoch 21, Batch 600, Loss: 0.0593, Accuracy: 0.9846\n",
      "Epoch 21, Batch 800, Loss: 0.0602, Accuracy: 0.9842\n",
      "Test Loss: 0.0813, Test Accuracy: 0.9761\n",
      "Epoch 22, Batch 200, Loss: 0.0586, Accuracy: 0.9852\n",
      "Epoch 22, Batch 400, Loss: 0.0595, Accuracy: 0.9839\n",
      "Epoch 22, Batch 600, Loss: 0.0557, Accuracy: 0.9855\n",
      "Epoch 22, Batch 800, Loss: 0.0566, Accuracy: 0.9865\n",
      "Test Loss: 0.0793, Test Accuracy: 0.9763\n",
      "Epoch 23, Batch 200, Loss: 0.0529, Accuracy: 0.9873\n",
      "Epoch 23, Batch 400, Loss: 0.0573, Accuracy: 0.9854\n",
      "Epoch 23, Batch 600, Loss: 0.0554, Accuracy: 0.9855\n",
      "Epoch 23, Batch 800, Loss: 0.0522, Accuracy: 0.9866\n",
      "Test Loss: 0.0786, Test Accuracy: 0.9763\n",
      "Epoch 24, Batch 200, Loss: 0.0519, Accuracy: 0.9873\n",
      "Epoch 24, Batch 400, Loss: 0.0556, Accuracy: 0.9849\n",
      "Epoch 24, Batch 600, Loss: 0.0518, Accuracy: 0.9880\n",
      "Epoch 24, Batch 800, Loss: 0.0504, Accuracy: 0.9867\n",
      "Test Loss: 0.0770, Test Accuracy: 0.9763\n",
      "Epoch 25, Batch 200, Loss: 0.0503, Accuracy: 0.9870\n",
      "Epoch 25, Batch 400, Loss: 0.0485, Accuracy: 0.9881\n",
      "Epoch 25, Batch 600, Loss: 0.0513, Accuracy: 0.9871\n",
      "Epoch 25, Batch 800, Loss: 0.0498, Accuracy: 0.9870\n",
      "Test Loss: 0.0761, Test Accuracy: 0.9764\n",
      "Epoch 26, Batch 200, Loss: 0.0454, Accuracy: 0.9894\n",
      "Epoch 26, Batch 400, Loss: 0.0465, Accuracy: 0.9880\n",
      "Epoch 26, Batch 600, Loss: 0.0494, Accuracy: 0.9876\n",
      "Epoch 26, Batch 800, Loss: 0.0529, Accuracy: 0.9866\n",
      "Test Loss: 0.0743, Test Accuracy: 0.9778\n",
      "Epoch 27, Batch 200, Loss: 0.0472, Accuracy: 0.9876\n",
      "Epoch 27, Batch 400, Loss: 0.0430, Accuracy: 0.9896\n",
      "Epoch 27, Batch 600, Loss: 0.0480, Accuracy: 0.9882\n",
      "Epoch 27, Batch 800, Loss: 0.0453, Accuracy: 0.9894\n",
      "Test Loss: 0.0750, Test Accuracy: 0.9772\n",
      "Epoch 28, Batch 200, Loss: 0.0456, Accuracy: 0.9887\n",
      "Epoch 28, Batch 400, Loss: 0.0420, Accuracy: 0.9900\n",
      "Epoch 28, Batch 600, Loss: 0.0408, Accuracy: 0.9897\n",
      "Epoch 28, Batch 800, Loss: 0.0428, Accuracy: 0.9893\n",
      "Test Loss: 0.0731, Test Accuracy: 0.9768\n",
      "Epoch 29, Batch 200, Loss: 0.0423, Accuracy: 0.9904\n",
      "Epoch 29, Batch 400, Loss: 0.0412, Accuracy: 0.9903\n",
      "Epoch 29, Batch 600, Loss: 0.0418, Accuracy: 0.9898\n",
      "Epoch 29, Batch 800, Loss: 0.0409, Accuracy: 0.9897\n",
      "Test Loss: 0.0710, Test Accuracy: 0.9778\n",
      "Epoch 30, Batch 200, Loss: 0.0363, Accuracy: 0.9923\n",
      "Epoch 30, Batch 400, Loss: 0.0413, Accuracy: 0.9902\n",
      "Epoch 30, Batch 600, Loss: 0.0411, Accuracy: 0.9903\n",
      "Epoch 30, Batch 800, Loss: 0.0424, Accuracy: 0.9896\n",
      "Test Loss: 0.0707, Test Accuracy: 0.9778\n"
     ]
    },
    {
     "data": {
      "image/png": "[encoded data removed]",
      "text/plain": [
       "<Figure size 800x800 with 9 Axes>"
      ]
     },
     "metadata": {},
     "output_type": "display_data"
    }
   ],
   "source": [
    "for epoch in range(1, num_epochs + 1):\n",
    "    train(model, device, train_loader, criterion, optimizer, epoch)\n",
    "    test(model, device, test_loader, criterion)\n",
    "\n",
    "# Visualize sample images with predictions\n",
    "samples, labels = next(iter(test_loader))\n",
    "samples = samples.to(device)\n",
    "outputs = model(samples)\n",
    "_, preds = torch.max(outputs, 1)\n",
    "\n",
    "samples = samples.cpu().numpy()\n",
    "fig, axes = plt.subplots(3, 3, figsize=(8, 8))\n",
    "for i, ax in enumerate(axes.ravel()):\n",
    "    ax.imshow(samples[i].squeeze(), cmap='gray')\n",
    "    ax.set_title(f'Label: {labels[i]}, Prediction: {preds[i]}')\n",
    "    ax.axis('off')\n",
    "plt.tight_layout()\n",
    "plt.show()"
   ]
  }
 ],
 "metadata": {
  "accelerator": "GPU",
  "colab": {
   "authorship_tag": "ABX9TyNgjuoYuWkPIqo60sL9bblv",
   "gpuType": "T4",
   "provenance": []
  },
  "kernelspec": {
   "display_name": "venv",
   "language": "python",
   "name": "python3"
  },
  "language_info": {
   "codemirror_mode": {
    "name": "ipython",
    "version": 3
   },
   "file_extension": ".py",
   "mimetype": "text/x-python",
   "name": "python",
   "nbconvert_exporter": "python",
   "pygments_lexer": "ipython3",
   "version": "3.12.3"
  }
 },
 "nbformat": 4,
 "nbformat_minor": 0
}
