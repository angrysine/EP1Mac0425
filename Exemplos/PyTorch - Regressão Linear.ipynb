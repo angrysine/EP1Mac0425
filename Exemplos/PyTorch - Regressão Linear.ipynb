{
 "cells": [
  {
   "cell_type": "code",
   "execution_count": 1,
   "metadata": {
    "executionInfo": {
     "elapsed": 8758,
     "status": "ok",
     "timestamp": 1749587576063,
     "user": {
      "displayName": "Felipe Ribas Serras",
      "userId": "07046523761288390143"
     },
     "user_tz": 180
    },
    "id": "a1C1Dfgwlm5W"
   },
   "outputs": [],
   "source": [
    "import torch\n",
    "import torch.nn as nn\n",
    "import torch.optim as optim\n",
    "import numpy as np\n",
    "import matplotlib.pyplot as plt"
   ]
  },
  {
   "cell_type": "markdown",
   "metadata": {
    "id": "0q31rL1emOxe"
   },
   "source": [
    "# Função-alvo"
   ]
  },
  {
   "cell_type": "code",
   "execution_count": 2,
   "metadata": {
    "executionInfo": {
     "elapsed": 21,
     "status": "ok",
     "timestamp": 1749587576064,
     "user": {
      "displayName": "Felipe Ribas Serras",
      "userId": "07046523761288390143"
     },
     "user_tz": 180
    },
    "id": "lH0Tub5Tlw3W"
   },
   "outputs": [],
   "source": [
    "def target_function(x):\n",
    "    return 5 * x + 10"
   ]
  },
  {
   "cell_type": "markdown",
   "metadata": {
    "id": "TWwjZbevmaNa"
   },
   "source": [
    "# Dados de Treinamento Sintéticos"
   ]
  },
  {
   "cell_type": "code",
   "execution_count": 3,
   "metadata": {
    "executionInfo": {
     "elapsed": 66,
     "status": "ok",
     "timestamp": 1749587576127,
     "user": {
      "displayName": "Felipe Ribas Serras",
      "userId": "07046523761288390143"
     },
     "user_tz": 180
    },
    "id": "Uv2m9KVSmIm8"
   },
   "outputs": [],
   "source": [
    "x_train = torch.linspace(-5, 5, 200).unsqueeze(1)\n",
    "y_train = target_function(x_train)"
   ]
  },
  {
   "cell_type": "markdown",
   "metadata": {
    "id": "IOId1fxcmej9"
   },
   "source": [
    "# Definindo a Rede Neural"
   ]
  },
  {
   "cell_type": "code",
   "execution_count": 4,
   "metadata": {
    "executionInfo": {
     "elapsed": 11,
     "status": "ok",
     "timestamp": 1749587576140,
     "user": {
      "displayName": "Felipe Ribas Serras",
      "userId": "07046523761288390143"
     },
     "user_tz": 180
    },
    "id": "818nVEaRmmdm"
   },
   "outputs": [],
   "source": [
    "class SimpleNet(nn.Module):\n",
    "    def __init__(self):\n",
    "        super(SimpleNet, self).__init__()\n",
    "        self.net = nn.Sequential(\n",
    "            nn.Linear(1, 64),\n",
    "            nn.Linear(64, 64),\n",
    "            nn.Linear(64, 1)\n",
    "        )\n",
    "\n",
    "    def forward(self, x):\n",
    "        return self.net(x)"
   ]
  },
  {
   "cell_type": "markdown",
   "metadata": {
    "id": "J7PQgUOkmyZr"
   },
   "source": [
    "# Inicializamos a Rede, Definimos um Custo e um Otimizador"
   ]
  },
  {
   "cell_type": "code",
   "execution_count": 5,
   "metadata": {
    "executionInfo": {
     "elapsed": 6453,
     "status": "ok",
     "timestamp": 1749587582594,
     "user": {
      "displayName": "Felipe Ribas Serras",
      "userId": "07046523761288390143"
     },
     "user_tz": 180
    },
    "id": "DtpL-f4Lm6fC"
   },
   "outputs": [],
   "source": [
    "model = SimpleNet()\n",
    "criterion = nn.MSELoss()\n",
    "optimizer = optim.Adam(model.parameters(), lr=0.01)"
   ]
  },
  {
   "cell_type": "markdown",
   "metadata": {
    "id": "YgMUPIWBnHq7"
   },
   "source": [
    "# Treinamos a Rede"
   ]
  },
  {
   "cell_type": "code",
   "execution_count": 6,
   "metadata": {
    "colab": {
     "base_uri": "https://localhost:8080/"
    },
    "executionInfo": {
     "elapsed": 1329,
     "status": "ok",
     "timestamp": 1749587583926,
     "user": {
      "displayName": "Felipe Ribas Serras",
      "userId": "07046523761288390143"
     },
     "user_tz": 180
    },
    "id": "-PlNpbdTnFfd",
    "outputId": "aa90c000-cf6d-4956-ba39-a0a2ae69dff4"
   },
   "outputs": [
    {
     "name": "stdout",
     "output_type": "stream",
     "text": [
      "Época 100, Loss: 0.0000\n",
      "Época 200, Loss: 0.0000\n",
      "Época 300, Loss: 0.0000\n",
      "Época 400, Loss: 0.0000\n",
      "Época 500, Loss: 0.0000\n",
      "Época 600, Loss: 0.0000\n",
      "Época 700, Loss: 0.0000\n",
      "Época 800, Loss: 0.0000\n",
      "Época 900, Loss: 0.0000\n",
      "Época 1000, Loss: 0.0000\n"
     ]
    }
   ],
   "source": [
    "epochs = 1000\n",
    "\n",
    "for epoch in range(epochs):\n",
    "\n",
    "    model.train()\n",
    "    optimizer.zero_grad()\n",
    "\n",
    "    output = model(x_train)\n",
    "\n",
    "    loss = criterion(output, y_train)\n",
    "    loss.backward()\n",
    "    optimizer.step()\n",
    "\n",
    "    if (epoch + 1) % 100 == 0:\n",
    "        print(f'Época {epoch+1}, Loss: {loss.item():.4f}')"
   ]
  },
  {
   "cell_type": "markdown",
   "metadata": {
    "id": "ALg_1jjinesa"
   },
   "source": [
    "# Função Auxiliar para Plotar os Resultados"
   ]
  },
  {
   "cell_type": "code",
   "execution_count": 7,
   "metadata": {
    "executionInfo": {
     "elapsed": 3,
     "status": "ok",
     "timestamp": 1749587583927,
     "user": {
      "displayName": "Felipe Ribas Serras",
      "userId": "07046523761288390143"
     },
     "user_tz": 180
    },
    "id": "-xy6nXIxnk_q"
   },
   "outputs": [],
   "source": [
    "def plot_model(model, title, x_range=(-5, 5)):\n",
    "    model.eval()\n",
    "    x_test = torch.linspace(x_range[0], x_range[1], 400).unsqueeze(1)\n",
    "    y_true = target_function(x_test).detach().numpy()\n",
    "    y_pred = model(x_test).detach().numpy()\n",
    "    x_test_np = x_test.numpy()\n",
    "\n",
    "    plt.figure(figsize=(8, 4))\n",
    "    plt.plot(x_test_np, y_true, label='Função verdadeira', color='blue')\n",
    "    plt.plot(x_test_np, y_pred, label='Predição da rede neural', color='red', linestyle='--')\n",
    "    plt.title(title)\n",
    "    plt.xlabel('x')\n",
    "    plt.ylabel('f(x)')\n",
    "    plt.legend()\n",
    "    plt.grid(True)\n",
    "    plt.show()"
   ]
  },
  {
   "cell_type": "markdown",
   "metadata": {
    "id": "DrR19WBMnzmF"
   },
   "source": [
    "# Resultados"
   ]
  },
  {
   "cell_type": "code",
   "execution_count": 8,
   "metadata": {
    "colab": {
     "base_uri": "https://localhost:8080/",
     "height": 410
    },
    "executionInfo": {
     "elapsed": 463,
     "status": "ok",
     "timestamp": 1749587584390,
     "user": {
      "displayName": "Felipe Ribas Serras",
      "userId": "07046523761288390143"
     },
     "user_tz": 180
    },
    "id": "SE-rArzKnmHn",
    "outputId": "3cda7169-fa45-444e-dd37-4770887e39ab"
   },
   "outputs": [
    {
     "data": {
      "image/png": "[encoded data removed]",
      "text/plain": [
       "<Figure size 800x400 with 1 Axes>"
      ]
     },
     "metadata": {},
     "output_type": "display_data"
    }
   ],
   "source": [
    "plot_model(model, 'Predição no intervalo de treinamento [-5, 5]', x_range=(-5, 5))"
   ]
  }
 ],
 "metadata": {
  "colab": {
   "authorship_tag": "ABX9TyNtXufscKVWfqq929RZihyS",
   "provenance": []
  },
  "kernelspec": {
   "display_name": "Python 3",
   "name": "python3"
  },
  "language_info": {
   "name": "python"
  }
 },
 "nbformat": 4,
 "nbformat_minor": 0
}
