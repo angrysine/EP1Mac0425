{
 "cells": [
  {
   "cell_type": "code",
   "execution_count": null,
   "id": "48e81dc6",
   "metadata": {},
   "outputs": [],
   "source": [
    "import pandas as pd\n",
    "\n",
    "pacientes = pd.read_csv(r'../Data/HC_Janeiro2021/HC_PACIENTES_1.csv', sep='|')\n",
    "\n",
    "df = pd.read_csv(r'../Data/HC_Janeiro2021/HC_EXAMES_1.csv', sep='|')\n",
    "df.insert(1, \"EXAME\", df['DE_EXAME']+\" \"+df['DE_ANALITO'])\n",
    "\n",
    "out = df.pivot_table(index='ID_aTENDIMENTO', columns='EXAME', values='DE_RESULTADO', aggfunc='first')"
   ]
  },
  {
   "cell_type": "code",
   "execution_count": 51,
   "id": "c056ddcd",
   "metadata": {},
   "outputs": [
    {
     "name": "stdout",
     "output_type": "stream",
     "text": [
      "['< 4.0' 'Indetectavel' '*' ... '>20.0' '< 2.40' '<2.40']\n"
     ]
    }
   ],
   "source": [
    "import numpy as np\n",
    "\n",
    "valuesTable = []\n",
    "\n",
    "for column in out.columns:\n",
    "    uniqueValues = out[column].unique()\n",
    "    notNullVal = uniqueValues[~pd.isnull(uniqueValues)]\n",
    "    values = notNullVal.transpose()\n",
    "\n",
    "    valuesTable.append(values)\n",
    "\n",
    "stringValues = []\n",
    "\n",
    "for values in valuesTable:\n",
    "    for value in values:\n",
    "        try:\n",
    "            float(value)\n",
    "        except:\n",
    "            stringValues.append(value)\n",
    "\n",
    "stringValues = pd.DataFrame(stringValues)[0].unique()\n",
    "print(stringValues)"
   ]
  },
  {
   "cell_type": "code",
   "execution_count": null,
   "id": "d2fdbdf2",
   "metadata": {},
   "outputs": [
    {
     "name": "stdout",
     "output_type": "stream",
     "text": [
      "[('Indetectavel', 0), ('*', 0), ('Negativa', 0), ('Reação citoquímica realizada para complementar diagnóstico.', 1), ('Foi  realizada a reação citoquímica.', 1), ('Presente', 1), ('Imediata', 1), ('NEGATIVO', 0), ('Realizado', 1), ('S', 1), ('R', 1), ('Não reagente', 0), ('Reagente', 1), ('negativo', 0), ('Positivo', 1), ('Negativo', 0), ('Duvidoso', 1), ('Não Reagente', 0), ('Ácido úrico', 1), ('.', 1), ('presente', 1), ('ausente', 1), ('Ausente', 1), ('Teste realizado através de curva de calibração híbrida para HBPM e HFN.', 1), ('Não detectado', 0), ('Detectado', 1), ('Inconclusivo', 1), ('Cocos Gram Positivos', 1), ('Não foram observados microrganismos', 0), ('Bacilos Gram Negativos', 0), ('Cocos Gram Positivos aos Pares e em Cadeias', 1), ('Leveduras', 1), ('Cocos Gram Positivos aos Pares', 1), ('Cocos Gram Positivos Agrupados', 1), ('Bacilos Gram Positivos', 1), ('Diplococos Gram Negativos', 0), ('Límpido e incolor', 1), ('Límpido e xantocrômico', 1), ('Levemente  hemorrágico', 1), ('Hemorrágico', 1), ('Levemente turvo', 1), ('Ausência de metáfases', 0), ('Culturas sem agente estimulante. banda G.', 1), ('Cultura sem agente estimulante. banda G.', 1), ('Cultura com e sem agente estimulante. banda G.', 1), ('Prejudicada', 1), ('Prejudicada devido a presença de células degeneradas', 1), ('Ausencia de células neoplasicas', 0), ('Prejudicada devido a baixa celularidade', 1), ('Limpido', 1), ('Ligeiramente turvo', 1), ('Turvo', 1), ('Purulento', 1), ('Límpido', 1), ('Serohemorrágico', 1), ('Lipêmico', 1), ('Limpído', 1), ('Eritrocrômico', 1), ('Intensa', 1), ('Discreta', 0), ('Moderado', 1), ('Moderada', 1), ('Ausentes', 1), ('intracelulares e extracelulares', 1), ('intracelulares', 1), ('Frequentes', 1), ('Discreto número', 1), ('Raros', 0), ('Típicas', 1), ('Raras', 0), ('Pequeno número', 1), ('AUSENTES', 1), ('A', 1), ('FREQUENTES', 1), ('Isolados', 0), ('RARAS', 0), ('Intracelulares e extracelulares', 1), ('Acastanhado', 1), ('Âmbar', 1), ('Amarelo', 1), ('conservados', 1), ('mal conservados', 1), ('Numerosos', 1), ('Raros. íntegros', 0), ('Moderado número. íntegros', 1), ('Leveduriformes', 1), ('ROMBOIDES', 1), ('Numerosos. mal conservados', 1), ('Frequentes mal conservados', 1), ('Frequentes conservados', 1), ('Númerosos conservados', 1), ('Numerosos. conservados', 1), ('Moderado número', 1), ('isolados', 0), ('Moderado número. isolados', 0), ('Pequeno número. íntegros', 1), ('Presença de coágulo', 1), ('Presença de fibrina', 1), ('Coleta em tubo inadequado', 1), ('NEGATIVA NA AMOSTRA EXAMINADA. VIDE OBSERVAÇÕES ABAIXO.', 0), ('POSITIVA NA AMOSTRA EXAMINADA. VIDE OBSERVAÇÕES ABAIXO.', 1), ('NEGATIVA NA AMOSTRA EXAMINADA.VIDE OBSERVAÇÃO ABAIXO.', 0), ('SUSPEITA NA AMOSTRA EXAMINADA. VIDE OBSERVAÇÕES ABAIXO.', 1), ('NEGATIVA NA AMOSTRA EXAMINADA.VIDE OBSERVAÇÃO ABAIXO', 0), ('Adequada', 1), ('Inadequada', 0), ('Seroso fino', 1), ('Seroso', 1), ('Metacromático de fundo', 1), ('Metacromático', 1), ('Mucoso denso', 1), ('Leucofagocitose', 1), ('Material particulado grosseiro', 1), ('Material particulado fino', 1), ('Não se aplica', 0), ('Material particulado basófilo grosseiro', 1), ('Eritrofagocitose', 1), ('PREJUDICADA SUJEITO A ERRO', 1), ('PREJUDICADA', 1), ('Normal', 1), ('Aumentada', 1), ('Blastocystis spp', 1), ('Endolimax nana', 1), ('Sugestivo de Leucócitos', 1), ('Voriconazol', 1), ('Vancomicina', 1), ('Fluconazol', 1), ('Linezolida', 1), ('Ceftazidima/Avibactam', 1), ('Micafungina', 1), ('Penicilina', 1), ('Cryptococcus neoformans var gattii', 1), ('Staphylococcus epidermidis', 1), ('Candida glabrata', 1), ('Staphylococcus aureus', 1), ('Klebsiella pneumoniae', 1), ('Staphylococcus hominis', 1), ('Streptococcus anginosus', 1), ('Streptococcus pneumoniae', 1), ('Streptococcus intermedius', 1), ('Streptococcus constellatus', 1), ('Streptococcus grupo viridans', 1), ('Streptococcus gordonii', 1), ('Zero', 0), ('Exame sob restrição. fezes diarreica. Este exame deve ser realizado em fezes formada.', 1), ('Enterobius vermicularis', 1), ('Presença de células de revestimento', 1), ('Sedimento constituído por raros linfócitos e monocitos.', 0), ('Sedimento constituído por raros linfócitos. monócitos e neutrófilos.', 0), ('Rarissimos linfocitos e monocitos', 1), ('Sedimento constituído por raros linfócitos.', 0), ('Não foram encontradas células no sedimento examinado.', 0), ('Presença de células degeneradas', 1), ('Rarissimos linfocitos', 1), ('Citologia prejudicada devido à células degeneradas.', 1), ('Raros monócitos', 0), ('Aguardar revisão citológica pela Seção de Líquor - Rotina.', 0), ('Crescimento polimicrobiano. prejudicando a valorização do agente infeccioso', 1), ('Positiva', 1), ('Microbiota do Trato Respiratório Superior', 1), ('Negativa para Bactérias Enteropatogênicas', 0), ('Parcial Negativo', 0), ('Inválido', 0), ('Não Detectado', 0), ('Abaixo de limite inferior de detecção', 1), ('Inválido. Não houve amplificação do controle interno da reação.', 0), ('Abaixo do limite de detecção', 1), ('Abaixo do limite inferior de detecção', 1), ('Ausência de hematúria', 0), ('Presença moderada de hemácias dismórficas', 1), ('Ausência de hemácias dismórficas', 0), ('Presença evidente de hemácias dismórficas', 1), ('FAILED', 0), ('Não foi detectada a presença de hemoglobinas variantes nesta amostra.', 0), ('Perfil de Hemoglobina S confirmado em  Eletroforese pH Acido.', 1), ('Perfil sugestivo de beta-talassemia. Sugerimos estudo molecular  para  confirmação.', 0), ('Perfil de HbC em HPLC confirmado por eletroforese pH ácido.', 1), ('LIMITES DE REFERENCIA.', 1), ('gama.', 1), ('(hipoalbuminemia).', 1), ('de fase aguda.', 1), ('DESTA AMOSTRA.', 1), ('(hipogamaglobulinemia).', 1), ('Aumento discreto do teor de globulinas gama.', 1), ('Aumento moderado do teor de globulinas gama.', 1), ('Perfil tipo misto (soro/LCR) com aumento discreto do teor de globulinas', 1), ('Perfil tipo misto (soro/LCR).', 1), ('O tracado eletroforetico sugere a presenca de quadro inflamatorio de fase aguda.', 1), ('Presenca de componente monoclonal na regiao de gamaglobulina.', 1), ('O tracado eletroforetico sugere diminuicao da fracao albumina', 1), ('O tracado eletroforetico sugere a presenca de quadro inflamatorio', 1), ('Valor indetectavel', 0), ('O tracado eletroforetico sugere gamopatia policlonal.', 1), ('NAO FORAM OBSERVADAS ALTERACOES NO TRACADO ELETROFORETICO', 0), ('O tracado eletroforetico sugere diminuicao da fracao gama globulina', 1), ('n', 1), ('grifols', 1), ('Grifols', 1), ('N', 1), ('GRIFOLS', 1), ('w', 1), ('Raras Células Epiteliais', 0), ('Raras Células Leveduriformes com Pseudohifas', 0), ('Raros Bacilos Gram Positivos', 0), ('Plano de Contingência. Aguardar resultado final da cultura', 1), ('Raros Cocos Gram Positivos Isolados e aos Pares', 0), ('Raros Leucócitos', 0), ('Raros Bacilos Gram Negativos', 0), ('Raros Leucócitos Polimorfonucleares', 0), ('Raros Cocos Gram Positivos Agrupados', 0), ('Raros Diplococos Gram Negativos', 0), ('Raros Cocos Gram Positivos aos Pares', 0), ('Numerosos Bacilos Gram Negativos', 0), ('Frequentes Leucócitos Polimorfonucleares', 1), ('Raras Células Leveduriformes', 0), ('Numerosos Leucócitos Polimorfonucleares', 1), ('Alguns Leucócitos Polimorfonucleares', 1), ('Frequentes Leucócitos', 1), ('Raros Cocobacilos Gram Negativos', 0), ('Frequentes Células Epiteliais', 1), ('Frequentes Cocos Gram Positivos Isolados e aos Pares', 0), ('Numerosos Cocos Gram Positivos Isolados e aos Pares', 0), ('Numerosos Cocos Gram Positivos Agrupados', 1), ('Frequentes Bacilos Gram Positivos', 1), ('Presença de Mobiluncus sp', 1), ('Numerosos Diplococos Gram Negativos', 0), ('Frequentes Cocos Gram Positivos Agrupados', 1), ('Sugestivo de Cryptosporidium', 1), ('Sugestivo de Blastocystis spp', 1), ('dp', 1), ('-', 0), ('DP', 1), ('Maricéa Mitsue Yoshisaki', 1), ('Rosely Tokuho', 1), ('Karen Nogueira Chinoca', 1), ('Gustavo Ricci', 1), ('Anderson Carvalho da Silva', 1), ('EFLEXIS', 1), ('Lucelia Santos', 1), ('POSITIVO', 1), ('?.....', 1), ('policromasia (+)', 1), ('poiquilocitose (+)', 1), ('policromasia (++)', 1), ('poiquilocitose (+++)', 1), ('Presença de rouleaux', 1), ('Policromasia (+)', 1), ('ovalócitos (+)', 1), ('Presença de pontilhado basófilo', 1), ('Poiquilocitose (+)', 1), ('Presença de corpúsculo de Howell - Jolly', 0), ('Presença de anisocitose acentuada', 1), ('ovalócitos (++)', 1), ('ovalócitos (+++)', 1), ('hemacias crenadas (+)', 1), ('Poiquilocitose (++)', 1), ('Poiquilocitose (+++)', 1), ('Presença de Rouleaux', 1), ('Policromasia (++)', 1), ('poiquilocitose (++)', 1), ('Sombras nucleares', 1), ('granulações tóxicas (+)', 1), ('Contagem diferencial microscópica prejudicada pela baixa leucometria', 1), ('granulações tóxicas (++)', 1), ('Presença de neutrófilos com hipersegmentação', 1), ('Presença de neutrófilos com microvacuolização citoplasmática', 1), ('Presença de corpusculo de Döhle', 1), ('Presença de elementos pelgeróides', 1), ('Presença de neutrófilos  hipogranulares', 1), ('Recomendamos Imunofenotipagem. a Critério Médico', 1), ('Presença de Sombras de Gumprecht', 1), ('População linfóide de aspecto maduro com núcleo pleomorfico.', 1), ('População linfóide. anisocítica e polimórfica.  com alguns  elementos imaturos', 1), ('Eritrócitos normais em tamanho', 1), ('Anisocitose +', 1), ('Macrocitose +', 1), ('Microcitose +', 1), ('Microcitose ++', 1), ('Anisocitose ++', 1), ('Anisocitose +++', 1), ('Macrocitose ++', 1), ('Microcitose +++', 1), ('Macrocitose +++', 1), ('anisocitose (++)', 1), ('----', 0), ('Valores Prejudicados Devido a Presença de Crioaglutinina', 1), ('Recomendamos. a Critério Médico. Interconsulta c/Hematologia Clínica', 1), ('Valores Obtidos na Amostra Enviada', 1), ('OBSU', 1), ('Ausencia de proteinas anomalas', 0), ('Presenca de cadeias indicativas de proteinas de Bence Jones Kappa.', 1), ('Presenca de paraproteinas IgG/Lambda', 1), ('Presenca de paraproteinas Lambda livre', 1), ('Presenca de paraproteinas Kappa livre Presenca de paraproteinas Lambda livre', 1), ('Presenca de paraproteinas IgG/Kappa', 1), ('AMOSTRA POSITIVA PARA HIV', 1), ('PELE LESADA', 1), ('Pouca quantidade de gordura', 1), ('HIPERCELULAR', 1), ('HIPOCELULAR', 1), ('NORMOCELULAR', 1), ('Investigação de leucopenia', 1), ('GMSI+Leucocitose', 1), ('bicitopenia a esclarecer', 1), ('MÍNIMA', 0), ('DISCRETA', 0), ('CIPSE', 1), ('NORMAL', 1), ('NÃO REFERIDA', 0), ('Não foram observados elementos estranhos à medula óssea', 0), ('Hipocelular', 1), ('Normocelular', 1), ('Hipocelularidade absoluta', 1), ('Escassa', 1), ('Presentes dentro da normalidade quantitativa', 1), ('Normoeritroblástica', 1), ('Normais em morfologia', 1), ('Diminuída', 1), ('Conservada', 1), ('Escalonamento maturativo conservado', 1), ('Material enviado colhido', 1), ('OBS', 1), ('biorad', 1), ('PC', 1), ('Bio Rad', 1), ('IV', 1), ('GAMMA', 1), ('bio rad', 1), ('BIO RAD', 1), ('FRESENIUS', 1), ('gamma', 1), ('c reage em enz', 1), ('±', 1), ('pré aquec', 1), ('Bio-Rad', 0), ('w+', 1), ('Fresenius', 1), ('W+', 1), ('cartão IgG', 1), ('fresenius', 1), ('agencias', 1), ('eflexis', 1), ('r', 1), ('PESQUISA DE ANTICOAGULANTE LUPICO NEGATIVA', 0), ('PESQUISA DE ANTICOAGULANTE LUPICO POSITIVA', 1), ('LAUDO PARCIAL: EXAME CONFIRMATÓRIO DE IMUNOBLOT EM ANDAMENTO.', 1), ('negativa', 0), ('Consultar Teste Rápido Molecular para Tuberculose - TRM-TB', 0), ('Positiva (+)', 1), ('Positiva (++)', 1), ('Positivo - Alguns', 0), ('Positivo - Raros', 0), ('Positivo - Numerosos', 0), ('Leucócitos', 1), ('Não houve amplificação do controle interno da PCR', 0), ('NEGATIVA', 0), ('Algumas Células Leveduriformes', 1), ('Frequentes Células Leveduriformes', 1), ('Algumas Células Leveduriformes com Pseudohifas', 1), ('Frequentes Células Leveduriformes com Pseudohifas', 1), ('Blastoconidios e pseudofilamentos de leveduras.', 1), ('Numerosas Células Leveduriformes com Pseudohifas', 1), ('Plasmodium sp e Trypanosoma cruzi', 1), ('positivo', 1), ('Alguns leucocitos degenerados', 1), ('Numerosos leucocitos degenerados', 1), ('Cryptosporidium sp', 1), ('Ausência de mutação', 0), ('Ausência', 0), ('Presença', 1), ('Anti-D', 0), ('Anti-Fyb', 0), ('Anti-K (Kell)', 0), ('Anti-He', 0), ('Autocrioaglutinina de especificidade indeterminada', 1), ('Anti-Jka', 0), ('Anti-E', 0), ('Auto anticorpo eritrocitário de classe IgG de especificidade indeterminada', 1), ('Anti-c', 0), ('Auto Anti-D', 0), ('Anti-M (IgG) com importância Clínica.', 0), ('Anti-Jkb', 0), ('Jaqueline Aparecida dos Santos', 1), ('Reinaldo Derrê', 1), ('RT', 1), ('Realizados triagem e painel gel LISS e enzima.  não foi detectado antic. irregular.', 0), ('Não foram detectados anticorpos irregulares', 0), ('LS', 1), ('Formas semelhantes a Cryptoccocus sp.', 1), ('macro', 1), ('agrup', 1), ('Presença de Macroplaquetas', 1), ('PRESENÇA DE MACROPLAQUETAS', 1), ('---', 0), ('-----', 0), ('PLAQUETAS AGREGADAS', 1), ('Presença de Plaquetas Agregadas', 1), ('Plaquetas agregadas. Sugerimos quando houver persistencia coletar em tubo de citrato.', 1), ('Presença de Plaquetas Gigantes', 1), ('Calmo. sentado', 1), ('Calmo. em decúbito lateral horizontal', 1), ('Não medida', 0), ('Médico Assistente', 1), ('Seção de Liquor', 1), ('Presença de população monoclonal para o gene gama do receptor de  célula T.', 1), ('Resultado Liberado no Laudo de Mielograma', 1), ('Pequeno numero de granulos de hemossiderina dispersos no parenquima.', 1), ('sem intercorrências', 1), ('sem intercorrencias', 1), ('ler', 1), ('Ler', 1), ('SEM INTERCORRENCIAS', 1), ('LER', 1), ('Sem intercorrências', 1), ('sem interorrencias', 1), ('VER', 1), ('SEM INTERCORRÊNCIAS', 1), ('Incompatible types', 1), ('M-', 0), ('?', 1), ('INCOAGULÁVEL', 1), ('rt', 1), ('ELEXIS', 1), ('ls', 1), ('Positivo. presença somente de IgG.', 1), ('Realizado eluição. porém detectados anticorpos somente no Auto-controle.', 0), ('Não realizado eluição (TAD negativo)', 0), ('Método:  eluição ácida', 1), ('Realizado eluição. porém não foram detectados anticorpos.', 0), ('Complexo MTB não detectado.', 0), ('Resistência à rifampicina não detectada.', 0), ('Complexo MTB não detectado', 0), ('Resistência à rifampicina não detectada', 0), ('Resistência à rifampicina indeterminada.', 1), ('Resistência à rifampicina indeterminada', 1), ('B Rh D negativo', 0), ('A Rh D positivo', 1), ('A Rh D negativo', 0), ('B Rh D positivo', 1), ('O Rh(D): positivo', 1), ('A Rh(D): negativo', 0), ('AB Rh D positivo', 1), ('A Rh(D): positivo', 1), ('ABO PREJUDICADO Rh(D): negativo', 0), ('B Rh(D): negativo', 0), ('A Rh(D): prejudicado', 1), ('AB Rh(D): positivo', 1), ('Maricea Mitsue Yoshisaki', 1), ('***', 0), ('realizado', 1), ('HIPOCOAGULANTE', 1), ('HIPERCOAGULANTE', 1), ('numerosas', 1), ('Numerosas', 1), ('raras', 0), ('Algumas', 1), ('algumas', 1), ('Raros cilindros granulosos', 0), ('Numerosos  cilindros granulosos', 1), ('Alguns cilindros granulosos', 1), ('Raros cilindros hialinos', 0), ('Alguns cilindros hialinos', 1), ('Raros cilindros hemáticos', 0), ('Numerosos cilindros hialinos', 1), ('Raros cilindros epiteliais', 0), ('Raros cilindros céreos', 0), ('Presença de cilindros de lipóide', 1), ('Raros cilindros leucocitários', 0), ('raros cilindros hialinos', 0), ('alguns cilindros granulosos', 1), ('numerosos  cilindros granulosos', 1), ('raros cilindros granulosos', 0), ('raros cilindros leucocitários', 0), ('raros cilindros céreos', 0), ('alguns cilindros leucocitários', 1), ('numerosos cilindros hialinos', 1), ('Presença discreta', 0), ('Fortemente presente', 1), ('Presença moderada', 1), ('presença discreta', 0), ('presença moderada', 1), ('Alguns cristais de urato amorfo', 1), ('Raros  cristais de urato amorfo', 0), ('Numerosos cristais de urato amorfo', 1), ('Raros cristais de ácido úrico', 0), ('Raros cristais de oxalato de cálcio', 0), ('Numerosos cristais de ácido úrico', 1), ('Alguns cristais de ácido úrico', 1), ('Alguns cristais de fosfatos amorfo', 1), ('Raros cristais de fosfatos amorfo', 0), ('Numerosos cristais de fosfato amorfo', 1), ('Alguns cristais de oxalato de cálcio', 1), ('Presença de cristais de cistina', 1), ('Alguns cristais de fosfato amoníaco magnesiano', 1), ('Numerosos  cristais de oxalato de cálcio', 1), ('Numerosos cristais de fosfato amoníaco magnesiano', 1), ('raros cristais de ácido úrico', 0), ('alguns cristais de urato amorfo', 1), ('raros cristais de oxalato de cálcio', 0), ('numerosos cristais de fosfato amorfo', 1), ('numerosos cristais de urato amorfo', 1), ('numerosos cristais de ácido úrico', 1), ('raros  cristais de urato amorfo', 0), ('alguns cristais de ácido úrico', 1), ('numerosos  cristais de oxalato de cálcio', 1), ('raros cristais de fosfato amoníaco magnesiano', 0), ('presença de cristais de cistina', 1), ('AUSENTE', 1), ('Presença de espermatozóides', 1), ('presença de espermatozóides', 1), ('presença de fungos', 1), ('Presença de numerosos fungos', 1), ('Presença de fungos', 1), ('norm', 1), ('AUSÊNCIA DE HEMÁCIAS DISMÓRFICAS', 0), ('Presença discreta de hemácias dismórficas', 0), ('PRESENÇA DISCRETA DE HEMÁCIAS DISMÓRFICAS', 0), ('isolados e conservados', 0), ('PRESENÇA MODERADA DE HEMÁCIAS DISMÓRFICAS', 1), ('PRESENÇA EVIDENTE DE HEMÁCIAS DISMÓRFICAS', 1), ('Presença de raras bactérias', 0), ('Presença de numerosas bactérias', 1), ('presença de raras bactérias', 0), ('presença de numerosas bactérias', 1), ('Presenca discreta', 0), ('Presenca moderada', 1), ('Fortemente Presente', 1), ('Tracos', 1), ('presença', 1), ('NEG', 0), ('neg', 0), ('Realizada análise quantitativa nesta amostra. resultado em anexo', 1)]\n"
     ]
    }
   ],
   "source": [
    "def has_digits(line):\n",
    "    return any(char.isdigit() for char in line)\n",
    "\n",
    "clearStringVal = []\n",
    "\n",
    "for val in stringValues:\n",
    "    if not has_digits(val):\n",
    "        clearStringVal.append(val)\n",
    "\n",
    "equivalenceMatrix = []\n",
    "negativeCases = [\"neg\", \"*\", \"não\", \"nao\", \"raro\", \"rara\", \"isolados\", \"inadequada\", \"zero\", \n",
    "                 \"inválido\", \"invalido\", \"ausência\", \"ausencia\", \"failed\", \"indetectavel\", \"-\",\n",
    "                 \"mínima\", \"minima\", \"discreta\"]\n",
    "singleCases = [\"*\", \"r\", \"s\", \"i\", \"n\", \"w\", \"-\"]\n",
    "\n",
    "for val in clearStringVal:\n",
    "    if val.count != 1 and any(substring in val.lower() for substring in negativeCases):\n",
    "        equivalenceMatrix.append((val, 0))\n",
    "    elif val.count == 1 and any(substring in val.lower() for substring in singleCases):\n",
    "        equivalenceMatrix.append((val, 0))\n",
    "    else:\n",
    "        equivalenceMatrix.append((val, 1))\n",
    "\n",
    "print(equivalenceMatrix)"
   ]
  }
 ],
 "metadata": {
  "kernelspec": {
   "display_name": "venv",
   "language": "python",
   "name": "python3"
  },
  "language_info": {
   "codemirror_mode": {
    "name": "ipython",
    "version": 3
   },
   "file_extension": ".py",
   "mimetype": "text/x-python",
   "name": "python",
   "nbconvert_exporter": "python",
   "pygments_lexer": "ipython3",
   "version": "3.12.3"
  }
 },
 "nbformat": 4,
 "nbformat_minor": 5
}
