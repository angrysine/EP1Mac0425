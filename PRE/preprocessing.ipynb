{
 "cells": [
  {
   "cell_type": "code",
   "execution_count": 169,
   "id": "fda43db8",
   "metadata": {},
   "outputs": [],
   "source": [
    "import numpy as np\n",
    "import pandas as pd \n",
    "from sklearn.preprocessing import LabelEncoder\n",
    "from sklearn.model_selection import KFold\n",
    "from sklearn.neural_network import MLPClassifier\n",
    "from sklearn.metrics import accuracy_score, precision_score, recall_score\n",
    "response =\"COVID-19 - PESQUISA DE ANTICORPOS IgG COVID-19 IgG\""
   ]
  },
  {
   "cell_type": "code",
   "execution_count": 160,
   "id": "48e81dc6",
   "metadata": {},
   "outputs": [],
   "source": [
    "pacientes = pd.read_csv(r'../Data/HC_PACIENTES_1.csv', sep='|')\n",
    "\n",
    "df = pd.read_csv(r'../Data/HC_EXAMES_1.csv', sep='|')\n",
    "df = pd.merge(df, pacientes)\n",
    "\n",
    "df.insert(1, \"EXAME\", df['DE_EXAME']+\" \"+df['DE_ANALITO'])\n",
    "\n",
    "out = df.pivot_table(index=['ID_aTENDIMENTO', 'IC_SEXO', 'AA_NASCIMENTO'], columns='EXAME', values='DE_RESULTADO', aggfunc='first')\n",
    "out = out.reset_index(level=['IC_SEXO', 'AA_NASCIMENTO'])"
   ]
  },
  {
   "cell_type": "code",
   "execution_count": 161,
   "id": "5e0831e3",
   "metadata": {},
   "outputs": [],
   "source": [
    "convertedResult = pd.get_dummies(out, dummy_na=True)"
   ]
  },
  {
   "cell_type": "code",
   "execution_count": 162,
   "id": "344dbad5",
   "metadata": {},
   "outputs": [
    {
     "name": "stderr",
     "output_type": "stream",
     "text": [
      "/var/folders/bx/s_m61_b15zg60nmz229ccs0c0000gn/T/ipykernel_44120/2616678637.py:16: FutureWarning: DataFrame.applymap has been deprecated. Use DataFrame.map instead.\n",
      "  converted_df = out.applymap(try_float)\n"
     ]
    }
   ],
   "source": [
    "#poem como nulo valores nao numericos\n",
    "def try_float(x):\n",
    "    try:\n",
    "        return float(x)\n",
    "    except (ValueError, TypeError):\n",
    "        return np.nan\n",
    "le = LabelEncoder()\n",
    "\n",
    "# Fit and transform the column\n",
    "out['IC_SEXO'] = le.fit_transform(out['IC_SEXO'])\n",
    "#tirar colunas sem resposta \n",
    "out.dropna(subset=[response], inplace=True)\n",
    "#0 negativo,1 positivo, removemos classe indeterminado\n",
    "out = out[out[response].isin([\"Não reagente\", \"Reagente\"])]\n",
    "out[response] = le.fit_transform(out[response])\n",
    "\n",
    "# Apply to each value in the DataFrame\n",
    "converted_df = out.applymap(try_float)\n",
    "# colunas de texto sao eliminadas\n",
    "converted_df.dropna(axis=1, how='all')\n",
    "\n",
    "#preenche nulos da forma pedida pelo professor\n",
    "for col in converted_df.columns:\n",
    "    n_unique = converted_df[col].nunique(dropna=True)\n",
    "    fill_value = 0.5 if n_unique == 2 else 0\n",
    "    converted_df[col] = converted_df[col].fillna(fill_value)"
   ]
  },
  {
   "cell_type": "code",
   "execution_count": 171,
   "id": "3a9fc5f5",
   "metadata": {},
   "outputs": [
    {
     "name": "stdout",
     "output_type": "stream",
     "text": [
      "standard deviation: 0.0301\n",
      "average score: 0.6422\n",
      "best recall: 0.7910, with index 0\n"
     ]
    }
   ],
   "source": [
    "y = converted_df[response]\n",
    "X = converted_df.drop(columns=[response])\n",
    "kfold = KFold(n_splits=5, shuffle=True, random_state=42)\n",
    "\n",
    "foldsScore = []\n",
    "foldStandartDeviation = []\n",
    "foldAccuracy = []\n",
    "#f score\n",
    "foldF1 = []\n",
    "FoldPrecision = []\n",
    "#cobertura em portugues\n",
    "FoldRecall = []\n",
    "models = []\n",
    "\n",
    "# treina o modelo para cada fold e guarda a pontuação\n",
    "for train_index, test_index in kfold.split(X):\n",
    "    clf = MLPClassifier(hidden_layer_sizes=(100, 50), max_iter=500, random_state=42)\n",
    "    X_train, X_test = X.iloc[train_index], X.iloc[test_index]\n",
    "    y_train, y_test = y.iloc[train_index], y.iloc[test_index]\n",
    "    clf.fit(X_train, y_train)\n",
    "    score = clf.score(X_test, y_test)\n",
    "    prediction = clf.predict(X_test)\n",
    "    foldAccuracy.append(accuracy_score(y_test, prediction))\n",
    "    foldF1.append(precision_score(y_test, prediction))\n",
    "    FoldPrecision.append(precision_score(y_test, prediction))\n",
    "    FoldRecall.append(recall_score(y_test, prediction))\n",
    "    foldsScore.append(score)\n",
    "    models.append(clf)\n",
    "\n",
    "#media respostas\n",
    "score = np.mean(foldsScore)\n",
    "standartDeviation = np.std(foldsScore)\n",
    "\n",
    "print(f\"standard deviation: {standartDeviation:.4f}\")\n",
    "print(f\"average score: {score:.4f}\")\n",
    "bestRecall = np.max(FoldRecall)\n",
    "max_index = np.argmax(foldsScore)\n",
    "print(f\"best recall: {bestRecall:.4f}, with index {max_index}\")\n",
    "\n"
   ]
  },
  {
   "cell_type": "code",
   "execution_count": null,
   "id": "e3ad51af",
   "metadata": {},
   "outputs": [],
   "source": [
    " Arquitetura da rede neural\n",
    "Nesta seção você deverá descrever arquitetura da rede neural utilizada e incluir os programas\n",
    "em Python utilizados para treinar e rodar a rede. Não há qualquer problema que esses\n",
    "programas sejam modificações dos programas fornecidos no exercício em sala, mas se na\n",
    "descrição da arquitetura você simplesmente disser algo como “a mesma arquitetura do\n",
    "exercício”, vou entender que você não tem ideia do que está sendo utilizado. Em particular,\n",
    "o seu relatório deve explicitar Qual a função que está sendo otimizada.\n",
    "É necessário descrever o número de entradas, o número de camadas, o tamanho de\n",
    "cada uma das camadas escondidas; é necessário descrever a função utilizada para calcular\n",
    "a perda (loss) e eventuais otimizações do usado no treinamento. É necessário descrever\n",
    "como a rede é utilizada no treinamento e durante sua execução, quando iremos prever o\n",
    "estágio de infecção de um paciente, mencionando formato das entradas, o tamanho dos\n",
    "batches, e o formato da saída.\n",
    "Entregar os programas Python u"
   ]
  },
  {
   "cell_type": "code",
   "execution_count": 167,
   "id": "53d756c1",
   "metadata": {},
   "outputs": [
    {
     "name": "stdout",
     "output_type": "stream",
     "text": [
      "score: 0.9174\n"
     ]
    }
   ],
   "source": [
    "clf.fit(X, y)\n"
   ]
  },
  {
   "cell_type": "code",
   "execution_count": null,
   "id": "e2b48386",
   "metadata": {},
   "outputs": [],
   "source": [
    "    "
   ]
  }
 ],
 "metadata": {
  "kernelspec": {
   "display_name": ".venv",
   "language": "python",
   "name": "python3"
  },
  "language_info": {
   "codemirror_mode": {
    "name": "ipython",
    "version": 3
   },
   "file_extension": ".py",
   "mimetype": "text/x-python",
   "name": "python",
   "nbconvert_exporter": "python",
   "pygments_lexer": "ipython3",
   "version": "3.13.2"
  }
 },
 "nbformat": 4,
 "nbformat_minor": 5
}
